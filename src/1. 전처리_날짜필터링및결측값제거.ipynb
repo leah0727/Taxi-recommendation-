{
 "cells": [
  {
   "cell_type": "code",
   "execution_count": 1,
   "metadata": {
    "colab": {
     "base_uri": "https://localhost:8080/"
    },
    "id": "tcsRwLAYFuZ5",
    "outputId": "5291a5bc-ba70-4da8-c311-ef4d296eeaff"
   },
   "outputs": [
    {
     "name": "stderr",
     "output_type": "stream",
     "text": [
      "/var/folders/tg/ntvm9wc94h937xqtzftck9xc0000gn/T/ipykernel_2638/2216033192.py:8: DtypeWarning: Columns (1,5,9) have mixed types. Specify dtype option on import or set low_memory=False.\n",
      "  df = pd.read_csv('data/raw/train_taxi_tims_U.csv',encoding='cp949')\n"
     ]
    }
   ],
   "source": [
    "import pandas as pd\n",
    "from sklearn.cluster import KMeans\n",
    "from sklearn.preprocessing import StandardScaler\n",
    "from sklearn.metrics import silhouette_score\n",
    "import matplotlib.pyplot as plt\n",
    "\n",
    "# 데이터 로드\n",
    "df = pd.read_csv('data/raw/train_taxi_tims_U.csv',encoding='cp949')"
   ]
  },
  {
   "cell_type": "code",
   "execution_count": 2,
   "metadata": {
    "colab": {
     "base_uri": "https://localhost:8080/",
     "height": 206
    },
    "id": "aI6t3lDy1Jbx",
    "outputId": "aad5d880-b8b4-459b-fbea-121a4dbe082d"
   },
   "outputs": [
    {
     "data": {
      "text/html": [
       "<div>\n",
       "<style scoped>\n",
       "    .dataframe tbody tr th:only-of-type {\n",
       "        vertical-align: middle;\n",
       "    }\n",
       "\n",
       "    .dataframe tbody tr th {\n",
       "        vertical-align: top;\n",
       "    }\n",
       "\n",
       "    .dataframe thead th {\n",
       "        text-align: right;\n",
       "    }\n",
       "</style>\n",
       "<table border=\"1\" class=\"dataframe\">\n",
       "  <thead>\n",
       "    <tr style=\"text-align: right;\">\n",
       "      <th></th>\n",
       "      <th>차량이름</th>\n",
       "      <th>승차시간</th>\n",
       "      <th>승차요일</th>\n",
       "      <th>승차X좌표</th>\n",
       "      <th>승차Y좌표</th>\n",
       "      <th>하차시간</th>\n",
       "      <th>하차X좌표</th>\n",
       "      <th>하차Y좌표</th>\n",
       "      <th>승차거리(m)</th>\n",
       "      <th>할증여부</th>\n",
       "      <th>요금</th>\n",
       "    </tr>\n",
       "  </thead>\n",
       "  <tbody>\n",
       "    <tr>\n",
       "      <th>0</th>\n",
       "      <td>xqbxch</td>\n",
       "      <td>NaN</td>\n",
       "      <td>Tuesday</td>\n",
       "      <td>127.367251</td>\n",
       "      <td>36.349866</td>\n",
       "      <td>20230620110821</td>\n",
       "      <td>127.367251</td>\n",
       "      <td>36.349866</td>\n",
       "      <td>0.00</td>\n",
       "      <td>미할증</td>\n",
       "      <td>3300</td>\n",
       "    </tr>\n",
       "    <tr>\n",
       "      <th>1</th>\n",
       "      <td>xqbxch</td>\n",
       "      <td>NaN</td>\n",
       "      <td>Tuesday</td>\n",
       "      <td>127.367263</td>\n",
       "      <td>36.349684</td>\n",
       "      <td>20230620111100</td>\n",
       "      <td>127.367263</td>\n",
       "      <td>36.349684</td>\n",
       "      <td>0.00</td>\n",
       "      <td>미할증</td>\n",
       "      <td>3300</td>\n",
       "    </tr>\n",
       "    <tr>\n",
       "      <th>2</th>\n",
       "      <td>xqbxch</td>\n",
       "      <td>NaN</td>\n",
       "      <td>Tuesday</td>\n",
       "      <td>0.000000</td>\n",
       "      <td>0.000000</td>\n",
       "      <td>20230620221810</td>\n",
       "      <td>127.343552</td>\n",
       "      <td>36.294073</td>\n",
       "      <td>8743.06</td>\n",
       "      <td>미할증</td>\n",
       "      <td>10300</td>\n",
       "    </tr>\n",
       "    <tr>\n",
       "      <th>3</th>\n",
       "      <td>xqbxch</td>\n",
       "      <td>NaN</td>\n",
       "      <td>Tuesday</td>\n",
       "      <td>127.340568</td>\n",
       "      <td>36.298811</td>\n",
       "      <td>20230620222720</td>\n",
       "      <td>127.350915</td>\n",
       "      <td>36.305854</td>\n",
       "      <td>1518.13</td>\n",
       "      <td>미할증</td>\n",
       "      <td>3300</td>\n",
       "    </tr>\n",
       "    <tr>\n",
       "      <th>4</th>\n",
       "      <td>xqbxch</td>\n",
       "      <td>NaN</td>\n",
       "      <td>Tuesday</td>\n",
       "      <td>127.351858</td>\n",
       "      <td>36.299839</td>\n",
       "      <td>20230620224715</td>\n",
       "      <td>127.374955</td>\n",
       "      <td>36.345087</td>\n",
       "      <td>7045.65</td>\n",
       "      <td>미할증</td>\n",
       "      <td>8000</td>\n",
       "    </tr>\n",
       "  </tbody>\n",
       "</table>\n",
       "</div>"
      ],
      "text/plain": [
       "     차량이름 승차시간     승차요일       승차X좌표      승차Y좌표            하차시간       하차X좌표  \\\n",
       "0  xqbxch  NaN  Tuesday  127.367251  36.349866  20230620110821  127.367251   \n",
       "1  xqbxch  NaN  Tuesday  127.367263  36.349684  20230620111100  127.367263   \n",
       "2  xqbxch  NaN  Tuesday    0.000000   0.000000  20230620221810  127.343552   \n",
       "3  xqbxch  NaN  Tuesday  127.340568  36.298811  20230620222720  127.350915   \n",
       "4  xqbxch  NaN  Tuesday  127.351858  36.299839  20230620224715  127.374955   \n",
       "\n",
       "       하차Y좌표  승차거리(m) 할증여부     요금  \n",
       "0  36.349866     0.00  미할증   3300  \n",
       "1  36.349684     0.00  미할증   3300  \n",
       "2  36.294073  8743.06  미할증  10300  \n",
       "3  36.305854  1518.13  미할증   3300  \n",
       "4  36.345087  7045.65  미할증   8000  "
      ]
     },
     "execution_count": 2,
     "metadata": {},
     "output_type": "execute_result"
    }
   ],
   "source": [
    "df.head()"
   ]
  },
  {
   "cell_type": "code",
   "execution_count": 3,
   "metadata": {
    "colab": {
     "base_uri": "https://localhost:8080/"
    },
    "id": "tSpCiOrfxBFY",
    "outputId": "265d4e33-b2df-4aa7-9ee4-c97e3eccf200"
   },
   "outputs": [
    {
     "name": "stdout",
     "output_type": "stream",
     "text": [
      "Before dropping NaN instances: 1156344\n",
      "After dropping NaN instances: 566520\n"
     ]
    }
   ],
   "source": [
    "# 사용 전 인스턴스 개수 출력\n",
    "print(\"Before dropping NaN instances:\", len(df))\n",
    "\n",
    "# NaN 값을 가진 인스턴스 삭제\n",
    "df.dropna(inplace=True)\n",
    "\n",
    "# 사용 후 인스턴스 개수 출력\n",
    "print(\"After dropping NaN instances:\", len(df))"
   ]
  },
  {
   "cell_type": "code",
   "execution_count": 4,
   "metadata": {
    "colab": {
     "base_uri": "https://localhost:8080/",
     "height": 206
    },
    "id": "WUhfdIoAH-rt",
    "outputId": "bbc80bbe-8fb7-44f2-eade-fb1fbbabd186"
   },
   "outputs": [
    {
     "data": {
      "text/html": [
       "<div>\n",
       "<style scoped>\n",
       "    .dataframe tbody tr th:only-of-type {\n",
       "        vertical-align: middle;\n",
       "    }\n",
       "\n",
       "    .dataframe tbody tr th {\n",
       "        vertical-align: top;\n",
       "    }\n",
       "\n",
       "    .dataframe thead th {\n",
       "        text-align: right;\n",
       "    }\n",
       "</style>\n",
       "<table border=\"1\" class=\"dataframe\">\n",
       "  <thead>\n",
       "    <tr style=\"text-align: right;\">\n",
       "      <th></th>\n",
       "      <th>차량이름</th>\n",
       "      <th>승차시간</th>\n",
       "      <th>승차요일</th>\n",
       "      <th>승차X좌표</th>\n",
       "      <th>승차Y좌표</th>\n",
       "      <th>하차시간</th>\n",
       "      <th>하차X좌표</th>\n",
       "      <th>하차Y좌표</th>\n",
       "      <th>승차거리(m)</th>\n",
       "      <th>할증여부</th>\n",
       "      <th>요금</th>\n",
       "    </tr>\n",
       "  </thead>\n",
       "  <tbody>\n",
       "    <tr>\n",
       "      <th>393216</th>\n",
       "      <td>fcivmp</td>\n",
       "      <td>1970-01-01 05:37:11</td>\n",
       "      <td>Thursday</td>\n",
       "      <td>127.431169</td>\n",
       "      <td>36.349082</td>\n",
       "      <td>19700101053711</td>\n",
       "      <td>127.432874</td>\n",
       "      <td>36.330697</td>\n",
       "      <td>2618.33</td>\n",
       "      <td>미할증</td>\n",
       "      <td>5800</td>\n",
       "    </tr>\n",
       "    <tr>\n",
       "      <th>393217</th>\n",
       "      <td>mceayy</td>\n",
       "      <td>1970-01-01 05:37:11</td>\n",
       "      <td>Thursday</td>\n",
       "      <td>127.319037</td>\n",
       "      <td>36.363290</td>\n",
       "      <td>19700101053711</td>\n",
       "      <td>127.301159</td>\n",
       "      <td>36.337313</td>\n",
       "      <td>5102.27</td>\n",
       "      <td>미할증</td>\n",
       "      <td>8200</td>\n",
       "    </tr>\n",
       "    <tr>\n",
       "      <th>393218</th>\n",
       "      <td>vspxqy</td>\n",
       "      <td>1970-01-01 05:37:11</td>\n",
       "      <td>Thursday</td>\n",
       "      <td>127.314859</td>\n",
       "      <td>36.391744</td>\n",
       "      <td>19700101053711</td>\n",
       "      <td>127.350051</td>\n",
       "      <td>36.302253</td>\n",
       "      <td>12705.35</td>\n",
       "      <td>미할증</td>\n",
       "      <td>14400</td>\n",
       "    </tr>\n",
       "    <tr>\n",
       "      <th>393219</th>\n",
       "      <td>xqbsmx</td>\n",
       "      <td>1970-01-01 05:37:11</td>\n",
       "      <td>Thursday</td>\n",
       "      <td>127.369546</td>\n",
       "      <td>36.349814</td>\n",
       "      <td>19700101053711</td>\n",
       "      <td>127.382217</td>\n",
       "      <td>36.336760</td>\n",
       "      <td>2396.42</td>\n",
       "      <td>미할증</td>\n",
       "      <td>5200</td>\n",
       "    </tr>\n",
       "    <tr>\n",
       "      <th>393220</th>\n",
       "      <td>dmdlpm</td>\n",
       "      <td>1970-01-01 05:37:11</td>\n",
       "      <td>Thursday</td>\n",
       "      <td>127.377504</td>\n",
       "      <td>36.354857</td>\n",
       "      <td>19700101053711</td>\n",
       "      <td>127.356460</td>\n",
       "      <td>36.355071</td>\n",
       "      <td>2822.74</td>\n",
       "      <td>미할증</td>\n",
       "      <td>5600</td>\n",
       "    </tr>\n",
       "  </tbody>\n",
       "</table>\n",
       "</div>"
      ],
      "text/plain": [
       "          차량이름                 승차시간      승차요일       승차X좌표      승차Y좌표  \\\n",
       "393216  fcivmp  1970-01-01 05:37:11  Thursday  127.431169  36.349082   \n",
       "393217  mceayy  1970-01-01 05:37:11  Thursday  127.319037  36.363290   \n",
       "393218  vspxqy  1970-01-01 05:37:11  Thursday  127.314859  36.391744   \n",
       "393219  xqbsmx  1970-01-01 05:37:11  Thursday  127.369546  36.349814   \n",
       "393220  dmdlpm  1970-01-01 05:37:11  Thursday  127.377504  36.354857   \n",
       "\n",
       "                  하차시간       하차X좌표      하차Y좌표   승차거리(m) 할증여부     요금  \n",
       "393216  19700101053711  127.432874  36.330697   2618.33  미할증   5800  \n",
       "393217  19700101053711  127.301159  36.337313   5102.27  미할증   8200  \n",
       "393218  19700101053711  127.350051  36.302253  12705.35  미할증  14400  \n",
       "393219  19700101053711  127.382217  36.336760   2396.42  미할증   5200  \n",
       "393220  19700101053711  127.356460  36.355071   2822.74  미할증   5600  "
      ]
     },
     "execution_count": 4,
     "metadata": {},
     "output_type": "execute_result"
    }
   ],
   "source": [
    "df.head()"
   ]
  },
  {
   "cell_type": "code",
   "execution_count": 5,
   "metadata": {
    "colab": {
     "base_uri": "https://localhost:8080/"
    },
    "id": "eDY3OMEk3SBK",
    "outputId": "2dafd52b-45b6-406c-dd66-288f782bfafc"
   },
   "outputs": [
    {
     "name": "stdout",
     "output_type": "stream",
     "text": [
      "After deleting instances: 558743\n"
     ]
    }
   ],
   "source": [
    "# '승차시간'을 datetime 형식으로 변환\n",
    "df['승차시간'] = pd.to_datetime(df['승차시간'])\n",
    "\n",
    "# 년도가 2023 또는 2024가 아닌 인스턴스 삭제\n",
    "df = df[df['승차시간'].dt.year.isin([2023, 2024])]\n",
    "\n",
    "# 삭제 후 인스턴스 개수 출력\n",
    "print(\"After deleting instances:\", len(df))"
   ]
  },
  {
   "cell_type": "code",
   "execution_count": 6,
   "metadata": {
    "colab": {
     "base_uri": "https://localhost:8080/",
     "height": 206
    },
    "id": "Ur5ZAtsn3TmG",
    "outputId": "e556b997-a3eb-402f-fdb3-1d66200d50bf"
   },
   "outputs": [
    {
     "data": {
      "text/html": [
       "<div>\n",
       "<style scoped>\n",
       "    .dataframe tbody tr th:only-of-type {\n",
       "        vertical-align: middle;\n",
       "    }\n",
       "\n",
       "    .dataframe tbody tr th {\n",
       "        vertical-align: top;\n",
       "    }\n",
       "\n",
       "    .dataframe thead th {\n",
       "        text-align: right;\n",
       "    }\n",
       "</style>\n",
       "<table border=\"1\" class=\"dataframe\">\n",
       "  <thead>\n",
       "    <tr style=\"text-align: right;\">\n",
       "      <th></th>\n",
       "      <th>차량이름</th>\n",
       "      <th>승차시간</th>\n",
       "      <th>승차요일</th>\n",
       "      <th>승차X좌표</th>\n",
       "      <th>승차Y좌표</th>\n",
       "      <th>하차시간</th>\n",
       "      <th>하차X좌표</th>\n",
       "      <th>하차Y좌표</th>\n",
       "      <th>승차거리(m)</th>\n",
       "      <th>할증여부</th>\n",
       "      <th>요금</th>\n",
       "    </tr>\n",
       "  </thead>\n",
       "  <tbody>\n",
       "    <tr>\n",
       "      <th>400993</th>\n",
       "      <td>gouhxp</td>\n",
       "      <td>2023-03-31 23:41:17</td>\n",
       "      <td>Friday</td>\n",
       "      <td>127.314748</td>\n",
       "      <td>36.391978</td>\n",
       "      <td>2023-04-01 00:04:32</td>\n",
       "      <td>127.249854</td>\n",
       "      <td>36.508528</td>\n",
       "      <td>15313.0</td>\n",
       "      <td>2</td>\n",
       "      <td>18100</td>\n",
       "    </tr>\n",
       "    <tr>\n",
       "      <th>400994</th>\n",
       "      <td>hzdykr</td>\n",
       "      <td>2023-03-31 23:49:29</td>\n",
       "      <td>Friday</td>\n",
       "      <td>127.432939</td>\n",
       "      <td>36.331904</td>\n",
       "      <td>2023-04-01 00:06:57</td>\n",
       "      <td>127.333850</td>\n",
       "      <td>36.336123</td>\n",
       "      <td>11321.0</td>\n",
       "      <td>1</td>\n",
       "      <td>12260</td>\n",
       "    </tr>\n",
       "    <tr>\n",
       "      <th>400995</th>\n",
       "      <td>bfllzp</td>\n",
       "      <td>2023-04-01 00:04:45</td>\n",
       "      <td>Saturday</td>\n",
       "      <td>127.336672</td>\n",
       "      <td>36.307763</td>\n",
       "      <td>2023-04-01 00:11:28</td>\n",
       "      <td>127.345800</td>\n",
       "      <td>36.323435</td>\n",
       "      <td>2531.0</td>\n",
       "      <td>1</td>\n",
       "      <td>5040</td>\n",
       "    </tr>\n",
       "    <tr>\n",
       "      <th>400996</th>\n",
       "      <td>clspqc</td>\n",
       "      <td>2023-04-01 00:06:20</td>\n",
       "      <td>Saturday</td>\n",
       "      <td>127.411853</td>\n",
       "      <td>36.336721</td>\n",
       "      <td>2023-04-01 00:12:18</td>\n",
       "      <td>127.420696</td>\n",
       "      <td>36.346687</td>\n",
       "      <td>2086.0</td>\n",
       "      <td>1</td>\n",
       "      <td>4680</td>\n",
       "    </tr>\n",
       "    <tr>\n",
       "      <th>400997</th>\n",
       "      <td>dmpnpp</td>\n",
       "      <td>2023-04-01 00:05:10</td>\n",
       "      <td>Saturday</td>\n",
       "      <td>127.434345</td>\n",
       "      <td>36.328179</td>\n",
       "      <td>2023-04-01 00:13:34</td>\n",
       "      <td>127.461915</td>\n",
       "      <td>36.330595</td>\n",
       "      <td>3682.0</td>\n",
       "      <td>1</td>\n",
       "      <td>6120</td>\n",
       "    </tr>\n",
       "  </tbody>\n",
       "</table>\n",
       "</div>"
      ],
      "text/plain": [
       "          차량이름                승차시간      승차요일       승차X좌표      승차Y좌표  \\\n",
       "400993  gouhxp 2023-03-31 23:41:17    Friday  127.314748  36.391978   \n",
       "400994  hzdykr 2023-03-31 23:49:29    Friday  127.432939  36.331904   \n",
       "400995  bfllzp 2023-04-01 00:04:45  Saturday  127.336672  36.307763   \n",
       "400996  clspqc 2023-04-01 00:06:20  Saturday  127.411853  36.336721   \n",
       "400997  dmpnpp 2023-04-01 00:05:10  Saturday  127.434345  36.328179   \n",
       "\n",
       "                       하차시간       하차X좌표      하차Y좌표  승차거리(m) 할증여부     요금  \n",
       "400993  2023-04-01 00:04:32  127.249854  36.508528  15313.0    2  18100  \n",
       "400994  2023-04-01 00:06:57  127.333850  36.336123  11321.0    1  12260  \n",
       "400995  2023-04-01 00:11:28  127.345800  36.323435   2531.0    1   5040  \n",
       "400996  2023-04-01 00:12:18  127.420696  36.346687   2086.0    1   4680  \n",
       "400997  2023-04-01 00:13:34  127.461915  36.330595   3682.0    1   6120  "
      ]
     },
     "execution_count": 6,
     "metadata": {},
     "output_type": "execute_result"
    }
   ],
   "source": [
    "df.head()"
   ]
  },
  {
   "cell_type": "code",
   "execution_count": 7,
   "metadata": {
    "id": "nSURk4PlycfV"
   },
   "outputs": [],
   "source": [
    "df['할증여부'] = df['할증여부'].replace('미할증', 0)"
   ]
  },
  {
   "cell_type": "code",
   "execution_count": 8,
   "metadata": {
    "id": "_T4uVoqb0Fsh"
   },
   "outputs": [],
   "source": [
    "# '승차시간'과 '하차시간'을 datetime으로 변환 (형식 지정, 잘못된 값은 NaT로 변환)\n",
    "df['승차시간'] = pd.to_datetime(df['승차시간'], errors='coerce')\n",
    "df['하차시간'] = pd.to_datetime(df['하차시간'], errors='coerce')\n",
    "\n",
    "# '주행시간' 계산 및 새로운 열에 저장\n",
    "df['주행시간'] = df['하차시간'] - df['승차시간']"
   ]
  },
  {
   "cell_type": "code",
   "execution_count": 9,
   "metadata": {
    "id": "MEWhReBl4NHx"
   },
   "outputs": [],
   "source": [
    "# '주행시간'을 초 단위의 실수로 변환하여 '주행시간_초' 열에 저장\n",
    "df['주행시간_초'] = df['주행시간'].dt.total_seconds()"
   ]
  },
  {
   "cell_type": "code",
   "execution_count": 10,
   "metadata": {
    "colab": {
     "base_uri": "https://localhost:8080/",
     "height": 206
    },
    "id": "nvLiWWyO0XLt",
    "outputId": "0738594b-34b4-4cee-9756-9a620c4e639b"
   },
   "outputs": [
    {
     "data": {
      "text/html": [
       "<div>\n",
       "<style scoped>\n",
       "    .dataframe tbody tr th:only-of-type {\n",
       "        vertical-align: middle;\n",
       "    }\n",
       "\n",
       "    .dataframe tbody tr th {\n",
       "        vertical-align: top;\n",
       "    }\n",
       "\n",
       "    .dataframe thead th {\n",
       "        text-align: right;\n",
       "    }\n",
       "</style>\n",
       "<table border=\"1\" class=\"dataframe\">\n",
       "  <thead>\n",
       "    <tr style=\"text-align: right;\">\n",
       "      <th></th>\n",
       "      <th>차량이름</th>\n",
       "      <th>승차시간</th>\n",
       "      <th>승차요일</th>\n",
       "      <th>승차X좌표</th>\n",
       "      <th>승차Y좌표</th>\n",
       "      <th>하차시간</th>\n",
       "      <th>하차X좌표</th>\n",
       "      <th>하차Y좌표</th>\n",
       "      <th>승차거리(m)</th>\n",
       "      <th>할증여부</th>\n",
       "      <th>요금</th>\n",
       "      <th>주행시간</th>\n",
       "      <th>주행시간_초</th>\n",
       "    </tr>\n",
       "  </thead>\n",
       "  <tbody>\n",
       "    <tr>\n",
       "      <th>400993</th>\n",
       "      <td>gouhxp</td>\n",
       "      <td>2023-03-31 23:41:17</td>\n",
       "      <td>Friday</td>\n",
       "      <td>127.314748</td>\n",
       "      <td>36.391978</td>\n",
       "      <td>2023-04-01 00:04:32</td>\n",
       "      <td>127.249854</td>\n",
       "      <td>36.508528</td>\n",
       "      <td>15313.0</td>\n",
       "      <td>2</td>\n",
       "      <td>18100</td>\n",
       "      <td>0 days 00:23:15</td>\n",
       "      <td>1395.0</td>\n",
       "    </tr>\n",
       "    <tr>\n",
       "      <th>400994</th>\n",
       "      <td>hzdykr</td>\n",
       "      <td>2023-03-31 23:49:29</td>\n",
       "      <td>Friday</td>\n",
       "      <td>127.432939</td>\n",
       "      <td>36.331904</td>\n",
       "      <td>2023-04-01 00:06:57</td>\n",
       "      <td>127.333850</td>\n",
       "      <td>36.336123</td>\n",
       "      <td>11321.0</td>\n",
       "      <td>1</td>\n",
       "      <td>12260</td>\n",
       "      <td>0 days 00:17:28</td>\n",
       "      <td>1048.0</td>\n",
       "    </tr>\n",
       "    <tr>\n",
       "      <th>400995</th>\n",
       "      <td>bfllzp</td>\n",
       "      <td>2023-04-01 00:04:45</td>\n",
       "      <td>Saturday</td>\n",
       "      <td>127.336672</td>\n",
       "      <td>36.307763</td>\n",
       "      <td>2023-04-01 00:11:28</td>\n",
       "      <td>127.345800</td>\n",
       "      <td>36.323435</td>\n",
       "      <td>2531.0</td>\n",
       "      <td>1</td>\n",
       "      <td>5040</td>\n",
       "      <td>0 days 00:06:43</td>\n",
       "      <td>403.0</td>\n",
       "    </tr>\n",
       "    <tr>\n",
       "      <th>400996</th>\n",
       "      <td>clspqc</td>\n",
       "      <td>2023-04-01 00:06:20</td>\n",
       "      <td>Saturday</td>\n",
       "      <td>127.411853</td>\n",
       "      <td>36.336721</td>\n",
       "      <td>2023-04-01 00:12:18</td>\n",
       "      <td>127.420696</td>\n",
       "      <td>36.346687</td>\n",
       "      <td>2086.0</td>\n",
       "      <td>1</td>\n",
       "      <td>4680</td>\n",
       "      <td>0 days 00:05:58</td>\n",
       "      <td>358.0</td>\n",
       "    </tr>\n",
       "    <tr>\n",
       "      <th>400997</th>\n",
       "      <td>dmpnpp</td>\n",
       "      <td>2023-04-01 00:05:10</td>\n",
       "      <td>Saturday</td>\n",
       "      <td>127.434345</td>\n",
       "      <td>36.328179</td>\n",
       "      <td>2023-04-01 00:13:34</td>\n",
       "      <td>127.461915</td>\n",
       "      <td>36.330595</td>\n",
       "      <td>3682.0</td>\n",
       "      <td>1</td>\n",
       "      <td>6120</td>\n",
       "      <td>0 days 00:08:24</td>\n",
       "      <td>504.0</td>\n",
       "    </tr>\n",
       "  </tbody>\n",
       "</table>\n",
       "</div>"
      ],
      "text/plain": [
       "          차량이름                승차시간      승차요일       승차X좌표      승차Y좌표  \\\n",
       "400993  gouhxp 2023-03-31 23:41:17    Friday  127.314748  36.391978   \n",
       "400994  hzdykr 2023-03-31 23:49:29    Friday  127.432939  36.331904   \n",
       "400995  bfllzp 2023-04-01 00:04:45  Saturday  127.336672  36.307763   \n",
       "400996  clspqc 2023-04-01 00:06:20  Saturday  127.411853  36.336721   \n",
       "400997  dmpnpp 2023-04-01 00:05:10  Saturday  127.434345  36.328179   \n",
       "\n",
       "                      하차시간       하차X좌표      하차Y좌표  승차거리(m) 할증여부     요금  \\\n",
       "400993 2023-04-01 00:04:32  127.249854  36.508528  15313.0    2  18100   \n",
       "400994 2023-04-01 00:06:57  127.333850  36.336123  11321.0    1  12260   \n",
       "400995 2023-04-01 00:11:28  127.345800  36.323435   2531.0    1   5040   \n",
       "400996 2023-04-01 00:12:18  127.420696  36.346687   2086.0    1   4680   \n",
       "400997 2023-04-01 00:13:34  127.461915  36.330595   3682.0    1   6120   \n",
       "\n",
       "                  주행시간  주행시간_초  \n",
       "400993 0 days 00:23:15  1395.0  \n",
       "400994 0 days 00:17:28  1048.0  \n",
       "400995 0 days 00:06:43   403.0  \n",
       "400996 0 days 00:05:58   358.0  \n",
       "400997 0 days 00:08:24   504.0  "
      ]
     },
     "execution_count": 10,
     "metadata": {},
     "output_type": "execute_result"
    }
   ],
   "source": [
    "df.head()"
   ]
  },
  {
   "cell_type": "code",
   "execution_count": 11,
   "metadata": {
    "colab": {
     "base_uri": "https://localhost:8080/"
    },
    "id": "2YONsrhy5wOC",
    "outputId": "23f774c3-372f-478a-b6c3-be8252cca93b"
   },
   "outputs": [
    {
     "name": "stdout",
     "output_type": "stream",
     "text": [
      "Before dropping NaN instances: 558743\n",
      "After dropping NaN instances: 494790\n"
     ]
    }
   ],
   "source": [
    "# 사용 전 인스턴스 개수 출력\n",
    "print(\"Before dropping NaN instances:\", len(df))\n",
    "\n",
    "# NaN 값을 가진 인스턴스 삭제\n",
    "df.dropna(inplace=True)\n",
    "\n",
    "# 사용 후 인스턴스 개수 출력\n",
    "print(\"After dropping NaN instances:\", len(df))"
   ]
  },
  {
   "cell_type": "code",
   "execution_count": 12,
   "metadata": {},
   "outputs": [],
   "source": [
    "df.to_csv('data/processed/train_1.csv', index=False)"
   ]
  },
  {
   "cell_type": "code",
   "execution_count": null,
   "metadata": {},
   "outputs": [],
   "source": []
  }
 ],
 "metadata": {
  "colab": {
   "provenance": []
  },
  "kernelspec": {
   "display_name": "Python 3 (ipykernel)",
   "language": "python",
   "name": "python3"
  },
  "language_info": {
   "codemirror_mode": {
    "name": "ipython",
    "version": 3
   },
   "file_extension": ".py",
   "mimetype": "text/x-python",
   "name": "python",
   "nbconvert_exporter": "python",
   "pygments_lexer": "ipython3",
   "version": "3.11.5"
  }
 },
 "nbformat": 4,
 "nbformat_minor": 4
}
