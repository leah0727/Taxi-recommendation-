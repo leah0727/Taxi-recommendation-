{
 "cells": [
  {
   "cell_type": "code",
   "execution_count": 15,
   "metadata": {
    "colab": {
     "base_uri": "https://localhost:8080/"
    },
    "id": "KErkfkWAzvWx",
    "outputId": "eeb9dc80-d024-4ae1-e086-e35eae16e97c"
   },
   "outputs": [
    {
     "name": "stdout",
     "output_type": "stream",
     "text": [
      "생성 성공!\n",
      "생성 성공!\n"
     ]
    },
    {
     "data": {
      "text/plain": [
       "True"
      ]
     },
     "execution_count": 15,
     "metadata": {},
     "output_type": "execute_result"
    }
   ],
   "source": [
    "import requests\n",
    "import json\n",
    "import pandas as pd\n",
    "from pandas import json_normalize\n",
    "\n",
    "#공공데이터 포털에서 가져온 api 키, https://www.data.go.kr/\n",
    "mykey = \"qtdamt6TFAWE1Ay9G5om8dMA2ecfdfLHrttgbGw7boA0pWESuMORtcCflm0HkcRsTuobjsPnq%2BVFj49N98qkSA%3D%3D\"\n",
    "\n",
    "#한국 공휴일 csv 생성하고 생성 여부를 반환하는 함수\n",
    "def korean_holiday_csv_maker(year):\n",
    "    url = (\n",
    "            \"http://apis.data.go.kr/B090041/openapi/service/SpcdeInfoService/getRestDeInfo?_type=json&numOfRows=50&solYear=\"\n",
    "            + str(year)\n",
    "            + \"&ServiceKey=\"\n",
    "            + str(mykey)\n",
    "        )\n",
    "    response = requests.get(url)\n",
    "\n",
    "    #정상적으로 정보를 받아오면 받아온 공휴일 정보를 csv로 저장\n",
    "    if response.status_code == 200:\n",
    "        json_ob = json.loads(response.text)\n",
    "        holidays_data = json_ob[\"response\"][\"body\"][\"items\"][\"item\"]\n",
    "        dataframe = json_normalize(holidays_data)\n",
    "        dataframe.to_csv('{}_Korean_holiday.csv'.format(year))\n",
    "        print('생성 성공!')\n",
    "        return True\n",
    "    print('생성 실패!')\n",
    "    return False\n",
    "\n",
    "korean_holiday_csv_maker(2023)\n",
    "korean_holiday_csv_maker(2024)"
   ]
  },
  {
   "cell_type": "code",
   "execution_count": 18,
   "metadata": {
    "colab": {
     "base_uri": "https://localhost:8080/"
    },
    "id": "wJs1CN0Az0Eu",
    "outputId": "a2f2f344-ff97-4c72-bb29-78e4abd7ee06"
   },
   "outputs": [
    {
     "name": "stdout",
     "output_type": "stream",
     "text": [
      "   Unnamed: 0  dateKind dateName isHoliday   locdate  seq\n",
      "0           0         1     1월1일         Y  20230101    1\n",
      "1           1         1       설날         Y  20230121    1\n",
      "2           2         1       설날         Y  20230122    1\n",
      "3           3         1       설날         Y  20230123    1\n",
      "4           4         1    대체공휴일         Y  20230124    1\n"
     ]
    }
   ],
   "source": [
    "holiday_data_23 = pd.read_csv('data/extra/2023_Korean_holiday.csv', encoding = 'utf-8')\n",
    "print(holiday_data_23.head())"
   ]
  },
  {
   "cell_type": "code",
   "execution_count": 19,
   "metadata": {
    "colab": {
     "base_uri": "https://localhost:8080/"
    },
    "id": "lax8hpbcz1nB",
    "outputId": "d0516e91-8d44-45b4-cbde-4a6f267e4208"
   },
   "outputs": [
    {
     "name": "stdout",
     "output_type": "stream",
     "text": [
      "   Unnamed: 0  dateKind   dateName isHoliday   locdate  seq\n",
      "0           0         1       1월1일         Y  20240101    1\n",
      "1           1         1         설날         Y  20240209    1\n",
      "2           2         1         설날         Y  20240210    1\n",
      "3           3         1         설날         Y  20240211    1\n",
      "4           4         1  대체공휴일(설날)         Y  20240212    1\n"
     ]
    }
   ],
   "source": [
    "holiday_data_24 = pd.read_csv('data/extra/2024_Korean_holiday.csv', encoding = 'utf-8')\n",
    "print(holiday_data_24.head())"
   ]
  },
  {
   "cell_type": "code",
   "execution_count": 20,
   "metadata": {
    "colab": {
     "base_uri": "https://localhost:8080/"
    },
    "id": "g7xu3UF2z9NR",
    "outputId": "4f2fcb93-fbfa-430c-b163-bdd0e51bfb8f"
   },
   "outputs": [
    {
     "name": "stdout",
     "output_type": "stream",
     "text": [
      "   year month day\n",
      "0  2023    01  01\n",
      "1  2023    01  21\n",
      "2  2023    01  22\n",
      "3  2023    01  23\n",
      "4  2023    01  24\n",
      "    year month day\n",
      "32  2024    09  18\n",
      "33  2024    10  01\n",
      "34  2024    10  03\n",
      "35  2024    10  09\n",
      "36  2024    12  25\n"
     ]
    }
   ],
   "source": [
    "holiday_2324 = pd.DataFrame()\n",
    "\n",
    "# 2023년 데이터 추가\n",
    "holiday_2324['year'] = holiday_data_23['locdate'].astype(str).str[:4]  # 2023년 데이터\n",
    "holiday_2324['month'] = holiday_data_23['locdate'].astype(str).str[4:6]\n",
    "holiday_2324['day'] = holiday_data_23['locdate'].astype(str).str[6:8]\n",
    "\n",
    "# 2024년 데이터 추가\n",
    "holiday_2024 = pd.DataFrame({\n",
    "    'year': holiday_data_24['locdate'].astype(str).str[:4],  # 2024년 데이터\n",
    "    'month': holiday_data_24['locdate'].astype(str).str[4:6],\n",
    "    'day': holiday_data_24['locdate'].astype(str).str[6:8]\n",
    "})\n",
    "\n",
    "# holiday_2324에 2024년 데이터 추가\n",
    "holiday_2324 = pd.concat([holiday_2324, holiday_2024], ignore_index=True)\n",
    "\n",
    "# 결과 확인\n",
    "print(holiday_2324.head())  # 처음 5행 출력\n",
    "print(holiday_2324.tail())  # 마지막 5행 출력"
   ]
  },
  {
   "cell_type": "code",
   "execution_count": 5,
   "metadata": {
    "colab": {
     "base_uri": "https://localhost:8080/"
    },
    "id": "dVvBJa-K0BQO",
    "outputId": "94f4ce65-df8a-44d1-a906-4fb664baa377"
   },
   "outputs": [
    {
     "name": "stderr",
     "output_type": "stream",
     "text": [
      "/var/folders/tg/ntvm9wc94h937xqtzftck9xc0000gn/T/ipykernel_5539/2421352419.py:1: DtypeWarning: Columns (9) have mixed types. Specify dtype option on import or set low_memory=False.\n",
      "  train_fri_data = pd.read_csv('data/processed/train_금요일data1.csv')\n",
      "/var/folders/tg/ntvm9wc94h937xqtzftck9xc0000gn/T/ipykernel_5539/2421352419.py:2: DtypeWarning: Columns (9) have mixed types. Specify dtype option on import or set low_memory=False.\n",
      "  train_weekend_data = pd.read_csv('data/processed/train_주말data1.csv')\n",
      "/var/folders/tg/ntvm9wc94h937xqtzftck9xc0000gn/T/ipykernel_5539/2421352419.py:3: DtypeWarning: Columns (9) have mixed types. Specify dtype option on import or set low_memory=False.\n",
      "  train_weekday_data = pd.read_csv('data/processed/train_주중data1.csv')\n"
     ]
    }
   ],
   "source": [
    "train_fri_data = pd.read_csv('data/processed/train_금요일data1.csv')\n",
    "train_weekend_data = pd.read_csv('data/processed/train_주말data1.csv')\n",
    "train_weekday_data = pd.read_csv('data/processed/train_주중data1.csv')"
   ]
  },
  {
   "cell_type": "code",
   "execution_count": 6,
   "metadata": {
    "colab": {
     "base_uri": "https://localhost:8080/"
    },
    "id": "K3N_2R4C0Kkv",
    "outputId": "2420ced8-b4cb-40cb-8f5a-6c583ef88392"
   },
   "outputs": [],
   "source": [
    "# 'holiday' 열 추가 (초기값 0)\n",
    "train_fri_data['holiday'] = 0\n",
    "train_weekend_data['holiday'] = 0\n",
    "train_weekday_data['holiday'] = 0"
   ]
  },
  {
   "cell_type": "code",
   "execution_count": 7,
   "metadata": {
    "colab": {
     "base_uri": "https://localhost:8080/"
    },
    "id": "Elccy7SR1Vfn",
    "outputId": "df9ebd84-f5da-4b14-e0d8-f763af6bdd88"
   },
   "outputs": [
    {
     "name": "stdout",
     "output_type": "stream",
     "text": [
      "     차량이름                 승차시간    승차요일       승차X좌표      승차Y좌표  \\\n",
      "0  iarnsg  2023-04-07 00:00:18  Friday  127.350577  36.305774   \n",
      "1  eiihxy  2023-04-07 00:03:53  Friday  127.372759  36.327395   \n",
      "2  zazemd  2023-04-07 00:05:15  Friday  127.381975  36.347150   \n",
      "3  hzdykr  2023-04-07 00:05:31  Friday  127.391151  36.423884   \n",
      "4  iarnsg  2023-04-07 00:10:41  Friday  127.337384  36.330387   \n",
      "\n",
      "                  하차시간       하차X좌표      하차Y좌표  승차거리(m) 할증여부  ...  \\\n",
      "0  2023-04-07 00:08:18  127.340533  36.330138  4625.00    1  ...   \n",
      "1  2023-04-07 00:10:53  127.385410  36.341310  2124.84    1  ...   \n",
      "2  2023-04-07 00:11:54  127.372210  36.321143  3833.45    1  ...   \n",
      "3  2023-04-07 00:12:31  127.383478  36.440981  2697.93    1  ...   \n",
      "4  2023-04-07 00:16:54  127.332609  36.339160  1683.63    1  ...   \n",
      "\n",
      "              주행시간 주행시간_초  hour  year  month  day  기온(°C)  강수량(mm)   group  \\\n",
      "0  0 days 00:08:00  480.0     0  2023      4    7     7.1      1.1  Friday   \n",
      "1  0 days 00:07:00  420.0     0  2023      4    7     7.1      1.1  Friday   \n",
      "2  0 days 00:06:39  399.0     0  2023      4    7     7.1      1.1  Friday   \n",
      "3  0 days 00:07:00  420.0     0  2023      4    7     7.1      1.1  Friday   \n",
      "4  0 days 00:06:13  373.0     0  2023      4    7     7.1      1.1  Friday   \n",
      "\n",
      "  holiday  \n",
      "0       0  \n",
      "1       0  \n",
      "2       0  \n",
      "3       0  \n",
      "4       0  \n",
      "\n",
      "[5 rows x 21 columns]\n"
     ]
    }
   ],
   "source": [
    "# holiday_2324 DataFrame의 'year', 'month', 'day'를 기준으로 공휴일 여부 확인\n",
    "for index, row in train_fri_data.iterrows():\n",
    "    year = str(row['year'])   # train_fri_data의 'year' 열에서 연도 가져오기\n",
    "    month = str(row['month']).zfill(2)  # train_fri_data의 'month' 열에서 월 가져오기\n",
    "    day = str(row['day']).zfill(2)      # train_fri_data의 'day' 열에서 일 가져오기\n",
    "\n",
    "    # holiday_2324에 해당 날짜가 존재하는지 확인\n",
    "    if ((holiday_2324['year'] == year) &\n",
    "        (holiday_2324['month'] == month) &\n",
    "        (holiday_2324['day'] == day)).any():\n",
    "        train_fri_data.at[index, 'holiday'] = 1  # 공휴일이면 1 저장\n",
    "\n",
    "# 결과 확인\n",
    "print(train_fri_data.head())  # 'holiday' 열이 추가된 train_fri_data의 처음 5행 출력"
   ]
  },
  {
   "cell_type": "code",
   "execution_count": 8,
   "metadata": {
    "colab": {
     "base_uri": "https://localhost:8080/"
    },
    "id": "5WluGVI-1XUc",
    "outputId": "6474a92c-75d3-4a33-fcd0-dc36ea49cd88"
   },
   "outputs": [
    {
     "name": "stdout",
     "output_type": "stream",
     "text": [
      "     차량이름                 승차시간      승차요일       승차X좌표      승차Y좌표  \\\n",
      "0  bfllzp  2023-04-01 00:04:45  Saturday  127.336672  36.307763   \n",
      "1  clspqc  2023-04-01 00:06:20  Saturday  127.411853  36.336721   \n",
      "2  dmpnpp  2023-04-01 00:05:10  Saturday  127.434345  36.328179   \n",
      "3  hzdykr  2023-04-01 00:10:31  Saturday  127.339601  36.348446   \n",
      "4  eiihxy  2023-04-01 00:04:28  Saturday  127.389238  36.349626   \n",
      "\n",
      "                  하차시간       하차X좌표      하차Y좌표  승차거리(m) 할증여부  ...  \\\n",
      "0  2023-04-01 00:11:28  127.345800  36.323435   2531.0    1  ...   \n",
      "1  2023-04-01 00:12:18  127.420696  36.346687   2086.0    1  ...   \n",
      "2  2023-04-01 00:13:34  127.461915  36.330595   3682.0    1  ...   \n",
      "3  2023-04-01 00:15:13  127.353202  36.361700   2594.0    1  ...   \n",
      "4  2023-04-01 00:18:24  127.345296  36.341787   5259.0    1  ...   \n",
      "\n",
      "              주행시간 주행시간_초  hour  year  month  day  기온(°C)  강수량(mm)    group  \\\n",
      "0  0 days 00:06:43  403.0     0  2023      4    1    12.1      0.0  Weekend   \n",
      "1  0 days 00:05:58  358.0     0  2023      4    1    12.1      0.0  Weekend   \n",
      "2  0 days 00:08:24  504.0     0  2023      4    1    12.1      0.0  Weekend   \n",
      "3  0 days 00:04:42  282.0     0  2023      4    1    12.1      0.0  Weekend   \n",
      "4  0 days 00:13:56  836.0     0  2023      4    1    12.1      0.0  Weekend   \n",
      "\n",
      "  holiday  \n",
      "0       0  \n",
      "1       0  \n",
      "2       0  \n",
      "3       0  \n",
      "4       0  \n",
      "\n",
      "[5 rows x 21 columns]\n"
     ]
    }
   ],
   "source": [
    "# holiday_2324 DataFrame의 'year', 'month', 'day'를 기준으로 공휴일 여부 확인\n",
    "for index, row in train_weekend_data.iterrows():\n",
    "    year = str(row['year'])   # train_weekend_data의 'year' 열에서 연도 가져오기\n",
    "    month = str(row['month']).zfill(2)  # train_weekend_data의 'month' 열에서 월 가져오기\n",
    "    day = str(row['day']).zfill(2)      # train_weekend_data의 'day' 열에서 일 가져오기\n",
    "\n",
    "    # holiday_2324에 해당 날짜가 존재하는지 확인\n",
    "    if ((holiday_2324['year'] == year) &\n",
    "        (holiday_2324['month'] == month) &\n",
    "        (holiday_2324['day'] == day)).any():\n",
    "        train_weekend_data.at[index, 'holiday'] = 1  # 공휴일이면 1 저장\n",
    "\n",
    "# 결과 확인\n",
    "print(train_weekend_data.head())  # 'holiday' 열이 추가된 train_fri_data의 처음 5행 출력"
   ]
  },
  {
   "cell_type": "code",
   "execution_count": 9,
   "metadata": {
    "colab": {
     "base_uri": "https://localhost:8080/"
    },
    "id": "6ysnI7Zj1jPw",
    "outputId": "97e80af4-490e-4369-bb8c-851ec53193c1"
   },
   "outputs": [
    {
     "name": "stdout",
     "output_type": "stream",
     "text": [
      "     차량이름                 승차시간    승차요일       승차X좌표      승차Y좌표  \\\n",
      "0  clspqc  2023-04-03 00:00:16  Monday  127.392879  36.338629   \n",
      "1  clspqc  2023-04-03 00:06:15  Monday  127.375892  36.348033   \n",
      "2  cytplg  2023-04-03 00:01:19  Monday  127.350632  36.361790   \n",
      "3  gxpwil  2023-04-03 00:00:27  Monday  127.377370  36.351706   \n",
      "4  clspqc  2023-04-03 00:14:09  Monday  127.382204  36.334894   \n",
      "\n",
      "                  하차시간       하차X좌표      하차Y좌표  승차거리(m) 할증여부  ...  \\\n",
      "0  2023-04-03 00:04:20  127.373209  36.347611   2372.0    1  ...   \n",
      "1  2023-04-03 00:08:45  127.378054  36.336707   1449.0    1  ...   \n",
      "2  2023-04-03 00:13:18  127.390382  36.348084   5642.0    1  ...   \n",
      "3  2023-04-03 00:13:45  127.359768  36.374444   4728.0    1  ...   \n",
      "4  2023-04-03 00:19:20  127.397827  36.332249   2222.0    1  ...   \n",
      "\n",
      "              주행시간 주행시간_초  hour  year  month  day  기온(°C)  강수량(mm)     group  \\\n",
      "0  0 days 00:04:04  244.0     0  2023      4    3    14.8      0.0  Weekdays   \n",
      "1  0 days 00:02:30  150.0     0  2023      4    3    14.8      0.0  Weekdays   \n",
      "2  0 days 00:11:59  719.0     0  2023      4    3    14.8      0.0  Weekdays   \n",
      "3  0 days 00:13:18  798.0     0  2023      4    3    14.8      0.0  Weekdays   \n",
      "4  0 days 00:05:11  311.0     0  2023      4    3    14.8      0.0  Weekdays   \n",
      "\n",
      "  holiday  \n",
      "0       0  \n",
      "1       0  \n",
      "2       0  \n",
      "3       0  \n",
      "4       0  \n",
      "\n",
      "[5 rows x 21 columns]\n"
     ]
    }
   ],
   "source": [
    "# holiday_2324 DataFrame의 'year', 'month', 'day'를 기준으로 공휴일 여부 확인\n",
    "for index, row in train_weekday_data.iterrows():\n",
    "    year = str(row['year'])   # train_weekday_data의 'year' 열에서 연도 가져오기\n",
    "    month = str(row['month']).zfill(2)  # train_weekday_data의 'month' 열에서 월 가져오기\n",
    "    day = str(row['day']).zfill(2)      # train_weekday_data의 'day' 열에서 일 가져오기\n",
    "\n",
    "    # holiday_2324에 해당 날짜가 존재하는지 확인\n",
    "    if ((holiday_2324['year'] == year) &\n",
    "        (holiday_2324['month'] == month) &\n",
    "        (holiday_2324['day'] == day)).any():\n",
    "        train_weekday_data.at[index, 'holiday'] = 1  # 공휴일이면 1 저장\n",
    "\n",
    "# 결과 확인\n",
    "print(train_weekday_data.head())  # 'holiday' 열이 추가된 train_fri_data의 처음 5행 출력"
   ]
  },
  {
   "cell_type": "code",
   "execution_count": 10,
   "metadata": {},
   "outputs": [
    {
     "data": {
      "text/html": [
       "<div>\n",
       "<style scoped>\n",
       "    .dataframe tbody tr th:only-of-type {\n",
       "        vertical-align: middle;\n",
       "    }\n",
       "\n",
       "    .dataframe tbody tr th {\n",
       "        vertical-align: top;\n",
       "    }\n",
       "\n",
       "    .dataframe thead th {\n",
       "        text-align: right;\n",
       "    }\n",
       "</style>\n",
       "<table border=\"1\" class=\"dataframe\">\n",
       "  <thead>\n",
       "    <tr style=\"text-align: right;\">\n",
       "      <th></th>\n",
       "      <th>차량이름</th>\n",
       "      <th>승차시간</th>\n",
       "      <th>승차요일</th>\n",
       "      <th>승차X좌표</th>\n",
       "      <th>승차Y좌표</th>\n",
       "      <th>하차시간</th>\n",
       "      <th>하차X좌표</th>\n",
       "      <th>하차Y좌표</th>\n",
       "      <th>승차거리(m)</th>\n",
       "      <th>할증여부</th>\n",
       "      <th>...</th>\n",
       "      <th>주행시간</th>\n",
       "      <th>주행시간_초</th>\n",
       "      <th>hour</th>\n",
       "      <th>year</th>\n",
       "      <th>month</th>\n",
       "      <th>day</th>\n",
       "      <th>기온(°C)</th>\n",
       "      <th>강수량(mm)</th>\n",
       "      <th>group</th>\n",
       "      <th>holiday</th>\n",
       "    </tr>\n",
       "  </thead>\n",
       "  <tbody>\n",
       "    <tr>\n",
       "      <th>0</th>\n",
       "      <td>clspqc</td>\n",
       "      <td>2023-04-03 00:00:16</td>\n",
       "      <td>Monday</td>\n",
       "      <td>127.392879</td>\n",
       "      <td>36.338629</td>\n",
       "      <td>2023-04-03 00:04:20</td>\n",
       "      <td>127.373209</td>\n",
       "      <td>36.347611</td>\n",
       "      <td>2372.0</td>\n",
       "      <td>1</td>\n",
       "      <td>...</td>\n",
       "      <td>0 days 00:04:04</td>\n",
       "      <td>244.0</td>\n",
       "      <td>0</td>\n",
       "      <td>2023</td>\n",
       "      <td>4</td>\n",
       "      <td>3</td>\n",
       "      <td>14.8</td>\n",
       "      <td>0.0</td>\n",
       "      <td>Weekdays</td>\n",
       "      <td>0</td>\n",
       "    </tr>\n",
       "    <tr>\n",
       "      <th>1</th>\n",
       "      <td>clspqc</td>\n",
       "      <td>2023-04-03 00:06:15</td>\n",
       "      <td>Monday</td>\n",
       "      <td>127.375892</td>\n",
       "      <td>36.348033</td>\n",
       "      <td>2023-04-03 00:08:45</td>\n",
       "      <td>127.378054</td>\n",
       "      <td>36.336707</td>\n",
       "      <td>1449.0</td>\n",
       "      <td>1</td>\n",
       "      <td>...</td>\n",
       "      <td>0 days 00:02:30</td>\n",
       "      <td>150.0</td>\n",
       "      <td>0</td>\n",
       "      <td>2023</td>\n",
       "      <td>4</td>\n",
       "      <td>3</td>\n",
       "      <td>14.8</td>\n",
       "      <td>0.0</td>\n",
       "      <td>Weekdays</td>\n",
       "      <td>0</td>\n",
       "    </tr>\n",
       "    <tr>\n",
       "      <th>2</th>\n",
       "      <td>cytplg</td>\n",
       "      <td>2023-04-03 00:01:19</td>\n",
       "      <td>Monday</td>\n",
       "      <td>127.350632</td>\n",
       "      <td>36.361790</td>\n",
       "      <td>2023-04-03 00:13:18</td>\n",
       "      <td>127.390382</td>\n",
       "      <td>36.348084</td>\n",
       "      <td>5642.0</td>\n",
       "      <td>1</td>\n",
       "      <td>...</td>\n",
       "      <td>0 days 00:11:59</td>\n",
       "      <td>719.0</td>\n",
       "      <td>0</td>\n",
       "      <td>2023</td>\n",
       "      <td>4</td>\n",
       "      <td>3</td>\n",
       "      <td>14.8</td>\n",
       "      <td>0.0</td>\n",
       "      <td>Weekdays</td>\n",
       "      <td>0</td>\n",
       "    </tr>\n",
       "    <tr>\n",
       "      <th>3</th>\n",
       "      <td>gxpwil</td>\n",
       "      <td>2023-04-03 00:00:27</td>\n",
       "      <td>Monday</td>\n",
       "      <td>127.377370</td>\n",
       "      <td>36.351706</td>\n",
       "      <td>2023-04-03 00:13:45</td>\n",
       "      <td>127.359768</td>\n",
       "      <td>36.374444</td>\n",
       "      <td>4728.0</td>\n",
       "      <td>1</td>\n",
       "      <td>...</td>\n",
       "      <td>0 days 00:13:18</td>\n",
       "      <td>798.0</td>\n",
       "      <td>0</td>\n",
       "      <td>2023</td>\n",
       "      <td>4</td>\n",
       "      <td>3</td>\n",
       "      <td>14.8</td>\n",
       "      <td>0.0</td>\n",
       "      <td>Weekdays</td>\n",
       "      <td>0</td>\n",
       "    </tr>\n",
       "    <tr>\n",
       "      <th>4</th>\n",
       "      <td>clspqc</td>\n",
       "      <td>2023-04-03 00:14:09</td>\n",
       "      <td>Monday</td>\n",
       "      <td>127.382204</td>\n",
       "      <td>36.334894</td>\n",
       "      <td>2023-04-03 00:19:20</td>\n",
       "      <td>127.397827</td>\n",
       "      <td>36.332249</td>\n",
       "      <td>2222.0</td>\n",
       "      <td>1</td>\n",
       "      <td>...</td>\n",
       "      <td>0 days 00:05:11</td>\n",
       "      <td>311.0</td>\n",
       "      <td>0</td>\n",
       "      <td>2023</td>\n",
       "      <td>4</td>\n",
       "      <td>3</td>\n",
       "      <td>14.8</td>\n",
       "      <td>0.0</td>\n",
       "      <td>Weekdays</td>\n",
       "      <td>0</td>\n",
       "    </tr>\n",
       "  </tbody>\n",
       "</table>\n",
       "<p>5 rows × 21 columns</p>\n",
       "</div>"
      ],
      "text/plain": [
       "     차량이름                 승차시간    승차요일       승차X좌표      승차Y좌표  \\\n",
       "0  clspqc  2023-04-03 00:00:16  Monday  127.392879  36.338629   \n",
       "1  clspqc  2023-04-03 00:06:15  Monday  127.375892  36.348033   \n",
       "2  cytplg  2023-04-03 00:01:19  Monday  127.350632  36.361790   \n",
       "3  gxpwil  2023-04-03 00:00:27  Monday  127.377370  36.351706   \n",
       "4  clspqc  2023-04-03 00:14:09  Monday  127.382204  36.334894   \n",
       "\n",
       "                  하차시간       하차X좌표      하차Y좌표  승차거리(m) 할증여부  ...  \\\n",
       "0  2023-04-03 00:04:20  127.373209  36.347611   2372.0    1  ...   \n",
       "1  2023-04-03 00:08:45  127.378054  36.336707   1449.0    1  ...   \n",
       "2  2023-04-03 00:13:18  127.390382  36.348084   5642.0    1  ...   \n",
       "3  2023-04-03 00:13:45  127.359768  36.374444   4728.0    1  ...   \n",
       "4  2023-04-03 00:19:20  127.397827  36.332249   2222.0    1  ...   \n",
       "\n",
       "              주행시간 주행시간_초  hour  year  month  day  기온(°C)  강수량(mm)     group  \\\n",
       "0  0 days 00:04:04  244.0     0  2023      4    3    14.8      0.0  Weekdays   \n",
       "1  0 days 00:02:30  150.0     0  2023      4    3    14.8      0.0  Weekdays   \n",
       "2  0 days 00:11:59  719.0     0  2023      4    3    14.8      0.0  Weekdays   \n",
       "3  0 days 00:13:18  798.0     0  2023      4    3    14.8      0.0  Weekdays   \n",
       "4  0 days 00:05:11  311.0     0  2023      4    3    14.8      0.0  Weekdays   \n",
       "\n",
       "  holiday  \n",
       "0       0  \n",
       "1       0  \n",
       "2       0  \n",
       "3       0  \n",
       "4       0  \n",
       "\n",
       "[5 rows x 21 columns]"
      ]
     },
     "execution_count": 10,
     "metadata": {},
     "output_type": "execute_result"
    }
   ],
   "source": [
    "train_weekday_data.head()"
   ]
  },
  {
   "cell_type": "code",
   "execution_count": 12,
   "metadata": {},
   "outputs": [],
   "source": [
    "train_weekday_data.to_csv('data/processed/train_주중data2.csv', index=False)"
   ]
  },
  {
   "cell_type": "code",
   "execution_count": 13,
   "metadata": {},
   "outputs": [],
   "source": [
    "train_fri_data.to_csv('data/processed/train_금요일data2.csv', index=False)"
   ]
  },
  {
   "cell_type": "code",
   "execution_count": 14,
   "metadata": {},
   "outputs": [],
   "source": [
    "train_weekend_data.to_csv('data/processed/train_주말data2.csv', index=False)"
   ]
  }
 ],
 "metadata": {
  "colab": {
   "provenance": []
  },
  "kernelspec": {
   "display_name": "Python 3 (ipykernel)",
   "language": "python",
   "name": "python3"
  },
  "language_info": {
   "codemirror_mode": {
    "name": "ipython",
    "version": 3
   },
   "file_extension": ".py",
   "mimetype": "text/x-python",
   "name": "python",
   "nbconvert_exporter": "python",
   "pygments_lexer": "ipython3",
   "version": "3.11.5"
  }
 },
 "nbformat": 4,
 "nbformat_minor": 1
}
